{
  "cells": [
    {
      "cell_type": "markdown",
      "metadata": {
        "id": "view-in-github",
        "colab_type": "text"
      },
      "source": [
        "<a href=\"https://colab.research.google.com/github/Klealp/Diplomado_Ciencia_Datos/blob/main/Tareas/Tarea%201_colab.ipynb\" target=\"_parent\"><img src=\"https://colab.research.google.com/assets/colab-badge.svg\" alt=\"Open In Colab\"/></a>"
      ]
    },
    {
      "cell_type": "markdown",
      "id": "279c232d",
      "metadata": {
        "id": "279c232d"
      },
      "source": [
        "# <font color= blue> <b> PROBABILIDAD CONDICIONAL </b> </i> </font> "
      ]
    },
    {
      "cell_type": "markdown",
      "id": "4d1c2eaf",
      "metadata": {
        "id": "4d1c2eaf"
      },
      "source": [
        "<center> <img src=\"https://cdn.pixabay.com/photo/2017/10/25/22/29/bayesian-2889576_960_720.png\" width='400' height='300'> </center>"
      ]
    },
    {
      "cell_type": "markdown",
      "id": "543ffda1",
      "metadata": {
        "id": "543ffda1"
      },
      "source": [
        "## <font color= blue> <b> AUTOR: </b> </i> </font> "
      ]
    },
    {
      "cell_type": "markdown",
      "id": "e06840fb",
      "metadata": {
        "id": "e06840fb"
      },
      "source": [
        "[**Kevin Andrés Leal Pérez**](linkedin.com/in/kevin-andres-leal-perez-2a958a254): "
      ]
    },
    {
      "cell_type": "markdown",
      "id": "d9a17684",
      "metadata": {
        "id": "d9a17684"
      },
      "source": [
        "<center> <img src=\"https://github.com/Klealp/Diplomado_Ciencia_Datos/blob/main/Tareas/Foto.jpg?raw=true\" width='270' height='350'> </center>"
      ]
    },
    {
      "cell_type": "markdown",
      "id": "d19494cc",
      "metadata": {
        "id": "d19494cc"
      },
      "source": [
        "**Perfil**:\n",
        "\n",
        "Actualmente, me encuentro estudiando el noveno semestre de estadística de la Universidad Nacional de Colombia. Tengo 20 años y nací en Bogotá, Colombia. Me considero como una persona con grandes cualidades académicas, capacidad de liderazgo y de gestión, y un gran interés por aprender. Buenas relaciones personales y capacidades de comunicación que me permiten un alto desempeño en la resolución de conflictos, a su vez que, en actividades grupales. Entre mis actitudes destacan la responsabilidad, el respeto, la tolerancia, la paciencia y la disposición para colaborar activamente. Tengo conocimiento y experiencia con lenguajes de programación para el análisis de datos como Python y R."
      ]
    },
    {
      "cell_type": "markdown",
      "id": "cd09b460",
      "metadata": {
        "id": "cd09b460"
      },
      "source": [
        "## <font color= blue> <b> DEFINICIÓN: </b> </i> </font> "
      ]
    },
    {
      "cell_type": "markdown",
      "id": "6ca5555f",
      "metadata": {
        "id": "6ca5555f"
      },
      "source": [
        "La probabilidad condicional, también llamada probabilidad condicionada, es una medida estadística que indica la probabilidad de que ocurra un evento A si otro evento B ha sucedido. Es decir, la probabilidad condicional $P(A|B)$ se refiere a cuánto de probable es que suceda el evento $A$ una vez ya se ha producido el evento $B$.\n",
        "\n",
        "La probabilidad condicional del evento $A$ dado el evento $B$ es igual a la probabilidad de la intersección entre el evento $A$ y el evento $B$ partido por la probabilidad del evento B, es decir\n",
        "\n",
        "$$\n",
        "P(A|B) = \\frac{P(A \\cap B)}{P(B)}\n",
        "$$"
      ]
    },
    {
      "cell_type": "markdown",
      "id": "1966ece3",
      "metadata": {
        "id": "1966ece3"
      },
      "source": [
        "## <font color= blue> <b> EJEMPLO: </b> </i> </font> "
      ]
    },
    {
      "cell_type": "markdown",
      "id": "01d158bd",
      "metadata": {
        "id": "01d158bd"
      },
      "source": [
        "Después de haber hecho un examen en una clase de 30 alumnos, se han recogido datos para saber cuántos alumnos han estudiado y cuántos han aprobado, los resultados se muestran en la siguiente tabla de contingencia. A partir de los datos recopilados, se desea calcular la probabilidad condicional de aprobar un examen si la persona ha estudiado antes.\n",
        "\n",
        "|                  | Aprobado | Reprobado | Total |\n",
        "|------------------|----------|-----------|-------|\n",
        "| Han estudiado    | 19       | 4         | 23    |\n",
        "| No han estudiado | 1        | 6         | 7     |\n",
        "| Total            | 20       | 10        | 30    |\n"
      ]
    },
    {
      "cell_type": "markdown",
      "id": "0067a14b",
      "metadata": {
        "id": "0067a14b"
      },
      "source": [
        "Por lo tanto, si seguimos la fórmula presentada en la definición debemos averiguar la siguiente probabilidad\n",
        "\n",
        "$$\n",
        "P(\\text{Aprobado}|\\text{Ha estudiado}) = \\frac{P(\\text{Aprobado} \\cap \\text{Ha estudiado})}{P(\\text{Ha estudiado)}}\n",
        "$$"
      ]
    },
    {
      "cell_type": "markdown",
      "id": "1d125fe4",
      "metadata": {
        "id": "1d125fe4"
      },
      "source": [
        "Luego, tenemos que calcular la probabilidad de que el estudiante haya estudiado, que de acuerdo con la tabla esta sería\n",
        "$$\n",
        "P(\\text{Ha estudiado)} = \\frac{23}{30}\n",
        "$$"
      ]
    },
    {
      "cell_type": "code",
      "execution_count": null,
      "id": "0ae76b8e",
      "metadata": {
        "id": "0ae76b8e",
        "outputId": "14738634-4dfd-465f-d211-01b6fe0bd9a3"
      },
      "outputs": [
        {
          "name": "stdout",
          "output_type": "stream",
          "text": [
            "0.7666666666666667\n"
          ]
        }
      ],
      "source": [
        "prob_B = 23/30\n",
        "print(prob_B)"
      ]
    },
    {
      "cell_type": "markdown",
      "id": "81e2b75c",
      "metadata": {
        "id": "81e2b75c"
      },
      "source": [
        "Ahora, se debe hallar la probabilidad de que el estudiante haya estudiado y haya aprobado el examen al mismo tiempo, valor que nuevamente podemos obtener a partir de la tabla de contingencia\n",
        "\n",
        "$$\n",
        "P(\\text{Aprobado} \\cap \\text{Ha estudiado}) = \\frac{19}{30} \n",
        "$$"
      ]
    },
    {
      "cell_type": "code",
      "execution_count": null,
      "id": "ff7c02e2",
      "metadata": {
        "id": "ff7c02e2",
        "outputId": "ab29bce6-d07f-4490-8325-26704e8df90a"
      },
      "outputs": [
        {
          "name": "stdout",
          "output_type": "stream",
          "text": [
            "0.6333333333333333\n"
          ]
        }
      ],
      "source": [
        "prob_AnB = 19/30\n",
        "print(prob_AnB)"
      ]
    },
    {
      "cell_type": "markdown",
      "id": "bb279160",
      "metadata": {
        "id": "bb279160"
      },
      "source": [
        "Finalmente, la probabilidad de aprobar un examen condicionado en que la persona haya estudiado es\n",
        "\n",
        "$$\n",
        "P(\\text{Aprobado}|\\text{Ha estudiado}) = \\frac{0.63}{0.77} \n",
        "$$"
      ]
    },
    {
      "cell_type": "code",
      "execution_count": null,
      "id": "029a9779",
      "metadata": {
        "id": "029a9779",
        "outputId": "8cd61eeb-cfb8-4d00-e8ed-f8baf809b081"
      },
      "outputs": [
        {
          "name": "stdout",
          "output_type": "stream",
          "text": [
            "0.826086956521739\n"
          ]
        }
      ],
      "source": [
        "prob_condicional = prob_AnB/prob_B\n",
        "print(prob_condicional)"
      ]
    },
    {
      "cell_type": "markdown",
      "id": "55fb4073",
      "metadata": {
        "id": "55fb4073"
      },
      "source": [
        "## <font color= blue> <b> REFERENCIA: </b> </i> </font> \n",
        "\n",
        "- [Probabilidad y Estadística.net](https://www.probabilidadyestadistica.net/probabilidad-condicional-condicionada/)"
      ]
    }
  ],
  "metadata": {
    "kernelspec": {
      "display_name": "Python 3 (ipykernel)",
      "language": "python",
      "name": "python3"
    },
    "language_info": {
      "codemirror_mode": {
        "name": "ipython",
        "version": 3
      },
      "file_extension": ".py",
      "mimetype": "text/x-python",
      "name": "python",
      "nbconvert_exporter": "python",
      "pygments_lexer": "ipython3",
      "version": "3.9.16"
    },
    "colab": {
      "provenance": [],
      "include_colab_link": true
    }
  },
  "nbformat": 4,
  "nbformat_minor": 5
}