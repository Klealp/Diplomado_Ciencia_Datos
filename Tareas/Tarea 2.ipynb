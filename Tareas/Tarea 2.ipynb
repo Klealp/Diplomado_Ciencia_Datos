{
 "cells": [
  {
   "cell_type": "markdown",
   "id": "ff877d4d",
   "metadata": {},
   "source": [
    "# <font color= blue> <i> <b> Tarea de Funciones </b> </i> </font> "
   ]
  },
  {
   "cell_type": "markdown",
   "id": "d32907f9",
   "metadata": {},
   "source": [
    "1. Escriba una función  que reciba la fecha de nacimiento de una persona y calcule la edad de la persona"
   ]
  },
  {
   "cell_type": "code",
   "execution_count": 16,
   "id": "1baebc4a",
   "metadata": {},
   "outputs": [],
   "source": [
    "# librería para obtener fecha actual\n",
    "from datetime import date\n",
    "\n",
    "# Tipificamos para que se reciban solo enteros y la salida sea solamente un entero\n",
    "def calcular_edad(dia:int, mes:int, año:int) -> [int]:\n",
    "    \n",
    "    hoy = date.today()\n",
    "    edad = hoy.year - año\n",
    "    \n",
    "    if (hoy.day, hoy.month) < (dia, mes):\n",
    "        edad= edad-1\n",
    "        \n",
    "    return edad"
   ]
  },
  {
   "cell_type": "code",
   "execution_count": 18,
   "id": "e462a42c",
   "metadata": {},
   "outputs": [
    {
     "name": "stdout",
     "output_type": "stream",
     "text": [
      "La edad actual de la persona es 20 años.\n"
     ]
    }
   ],
   "source": [
    "edad = calcular_edad(21, 3, 2002)\n",
    "print(f\"La edad actual de la persona es {edad} años.\")"
   ]
  },
  {
   "cell_type": "markdown",
   "id": "4dbd660d",
   "metadata": {},
   "source": [
    "2. Crea una función EscribirCentrado, que reciba como parámetro un texto y lo escriba centrado en pantalla (suponiendo una anchura de 80 columnas; pista: deberás escribir 40 - longitud/2 espacios antes del texto)."
   ]
  },
  {
   "cell_type": "code",
   "execution_count": 33,
   "id": "d23d97a9",
   "metadata": {},
   "outputs": [],
   "source": [
    "# Librería para obtener el ancho de la terminal\n",
    "import shutil\n",
    "\n",
    "def EscribirCentrado(texto):\n",
    "\n",
    "    columns, _ = shutil.get_terminal_size()\n",
    "\n",
    "    espacio = int((int(columns) - len(texto)) / 2)\n",
    "\n",
    "    print(\" \" * espacio + texto)\n"
   ]
  },
  {
   "cell_type": "code",
   "execution_count": 34,
   "id": "fb90663e",
   "metadata": {},
   "outputs": [
    {
     "name": "stdout",
     "output_type": "stream",
     "text": [
      "                            Solución de la función 2\n"
     ]
    }
   ],
   "source": [
    "texto = \"Solución de la función 2\"\n",
    "EscribirCentrado(texto)"
   ]
  },
  {
   "cell_type": "markdown",
   "id": "32f6a441",
   "metadata": {},
   "source": [
    "3. Construya una función decorada que reciba un texto y lo escriba marcado con Markdown en itálica y resaltada (bold). Revise la lección de decoradores, no vista en clase. https://github.com/AprendizajeProfundo/Libro_Fundamentos_Programacion/blob/main/Python/Cuadernos/py_0120_Decoradores.ipynb"
   ]
  },
  {
   "cell_type": "code",
   "execution_count": 40,
   "id": "7a8a9bc8",
   "metadata": {},
   "outputs": [],
   "source": [
    "# decoradores\n",
    "def make_bold(fn):\n",
    "    def makebold_wrapper(texto):\n",
    "        return \"**\" + fn(texto) + \"**\"\n",
    "    return makebold_wrapper\n",
    "\n",
    "def make_italic(fn):\n",
    "    def makeitalic_wrapper(texto):\n",
    "        return \"*\" + fn(texto) + \"*\"\n",
    "    return makeitalic_wrapper\n",
    "\n",
    "# aplica los decoradores\n",
    "\n",
    "@make_bold\n",
    "@make_italic\n",
    "def hello(texto):\n",
    "    textico = \"Hola clase, hoy es \"+texto\n",
    "    return textico"
   ]
  },
  {
   "cell_type": "code",
   "execution_count": 41,
   "id": "27c82f8a",
   "metadata": {},
   "outputs": [
    {
     "name": "stdout",
     "output_type": "stream",
     "text": [
      "***Hola clase, hoy es domingo***\n"
     ]
    }
   ],
   "source": [
    "textico = \"domingo\"\n",
    "print(hello(textico))"
   ]
  },
  {
   "cell_type": "markdown",
   "id": "3551e768",
   "metadata": {},
   "source": [
    "4.  Crea un programa que pida dos número enteros al usuario y diga si alguno de ellos es múltiplo del otro. "
   ]
  },
  {
   "cell_type": "code",
   "execution_count": 16,
   "id": "2636c684",
   "metadata": {},
   "outputs": [],
   "source": [
    "def multiplo(x:int, y:int):\n",
    "    rta = None\n",
    "    \n",
    "    if x%y == 0:\n",
    "        rta = \"El número {} es múltiplo de {}\".format(x,y)\n",
    "    elif y%x == 0:\n",
    "        rta = \"El número {} es múltiplo de {}\".format(y,x)\n",
    "    else:\n",
    "        rta = \"Ningún número es múltiplo de otro.\"\n",
    "    \n",
    "    return rta"
   ]
  },
  {
   "cell_type": "markdown",
   "id": "236a7a9f",
   "metadata": {},
   "source": [
    "#### Ejemplo 1 :"
   ]
  },
  {
   "cell_type": "code",
   "execution_count": 22,
   "id": "663090cf",
   "metadata": {},
   "outputs": [
    {
     "name": "stdout",
     "output_type": "stream",
     "text": [
      "Ingrese el primer número: 25\n",
      "Ingrese el segundo número: 5\n",
      "El número 25 es múltiplo de 5\n"
     ]
    }
   ],
   "source": [
    "x = int(input(\"Ingrese el primer número: \"))\n",
    "y = int(input(\"Ingrese el segundo número: \"))\n",
    "\n",
    "print(multiplo(x,y))"
   ]
  },
  {
   "cell_type": "markdown",
   "id": "ecc8fcfa",
   "metadata": {},
   "source": [
    "#### Ejemplo 2 :"
   ]
  },
  {
   "cell_type": "code",
   "execution_count": 23,
   "id": "2c40e88e",
   "metadata": {},
   "outputs": [
    {
     "name": "stdout",
     "output_type": "stream",
     "text": [
      "Ingrese el primer número: 4\n",
      "Ingrese el segundo número: 32\n",
      "El número 32 es múltiplo de 4\n"
     ]
    }
   ],
   "source": [
    "x = int(input(\"Ingrese el primer número: \"))\n",
    "y = int(input(\"Ingrese el segundo número: \"))\n",
    "\n",
    "print(multiplo(x,y))"
   ]
  },
  {
   "cell_type": "markdown",
   "id": "e93961f5",
   "metadata": {},
   "source": [
    "#### Ejemplo 3 :"
   ]
  },
  {
   "cell_type": "code",
   "execution_count": 24,
   "id": "454d1acf",
   "metadata": {},
   "outputs": [
    {
     "name": "stdout",
     "output_type": "stream",
     "text": [
      "Ingrese el primer número: 77\n",
      "Ingrese el segundo número: 10\n",
      "Ningún número es múltiplo de otro.\n"
     ]
    }
   ],
   "source": [
    "x = int(input(\"Ingrese el primer número: \"))\n",
    "y = int(input(\"Ingrese el segundo número: \"))\n",
    "\n",
    "print(multiplo(x,y))"
   ]
  },
  {
   "cell_type": "markdown",
   "id": "8c80dd84",
   "metadata": {},
   "source": [
    "5. Crear una función que reciba una lista  de 24 valores de temperatura leída  hora en un día y que calcule la temperatura media  Cree una lista con 24 valores de temperatura de un día de Bogotá y pruebe su función. Invente los datos."
   ]
  },
  {
   "cell_type": "code",
   "execution_count": 26,
   "id": "4f95676e",
   "metadata": {},
   "outputs": [],
   "source": [
    "def temp_media(temp):\n",
    "    longitud = len(temp)\n",
    "    suma = 0\n",
    "    \n",
    "    for i in temp:\n",
    "        suma = suma + i\n",
    "    \n",
    "    media = suma/longitud\n",
    "    \n",
    "    return media"
   ]
  },
  {
   "cell_type": "code",
   "execution_count": 25,
   "id": "28010355",
   "metadata": {},
   "outputs": [
    {
     "data": {
      "text/plain": [
       "24"
      ]
     },
     "execution_count": 25,
     "metadata": {},
     "output_type": "execute_result"
    }
   ],
   "source": [
    "Temp = [10.5,10.3,10.1,9.9,9.8,9.8,9.6,9.4,9.7,11.3,14.5,16.8,18.0,20.2,20.5,20.4,19.6,18.5,16.9,15.8,14.4,13.1,12.0,11.5]\n",
    "len(Temp)"
   ]
  },
  {
   "cell_type": "code",
   "execution_count": 27,
   "id": "732d3755",
   "metadata": {},
   "outputs": [
    {
     "data": {
      "text/plain": [
       "13.858333333333333"
      ]
     },
     "execution_count": 27,
     "metadata": {},
     "output_type": "execute_result"
    }
   ],
   "source": [
    "temp_media(Temp)"
   ]
  },
  {
   "cell_type": "markdown",
   "id": "71b85ee6",
   "metadata": {},
   "source": [
    "6. Crea una función “ConvertirEspaciado”, que reciba como parámetro un texto y devuelve una cadena con un espacio adicional tras cada letra. Por ejemplo, “Hola, tú” devolverá “H o l a , t ú “.  Pruebe "
   ]
  },
  {
   "cell_type": "code",
   "execution_count": 37,
   "id": "2f2e505f",
   "metadata": {},
   "outputs": [],
   "source": [
    "def ConvertirEspaciado (texto:str) -> [str]:\n",
    "    nuevo_string = str()\n",
    "    for i in texto:\n",
    "        if i != \" \":\n",
    "            nuevo_string = nuevo_string + i + \" \"\n",
    "        else:\n",
    "            nuevo_string = nuevo_string\n",
    "    \n",
    "    return nuevo_string"
   ]
  },
  {
   "cell_type": "code",
   "execution_count": 38,
   "id": "38bfedc9",
   "metadata": {},
   "outputs": [
    {
     "name": "stdout",
     "output_type": "stream",
     "text": [
      "P e p i t o , C ó m o e s t á s ? \n"
     ]
    }
   ],
   "source": [
    "texto = \"Pepito, Cómo estás?\"\n",
    "print(ConvertirEspaciado(texto))"
   ]
  },
  {
   "cell_type": "markdown",
   "id": "153e2f03",
   "metadata": {},
   "source": [
    "7. Crea una función “calcularMaxMin” que recibe un arreglo con valores numéricos y devuelve el valor máximo y el mínimo."
   ]
  },
  {
   "cell_type": "code",
   "execution_count": 55,
   "id": "a2813daa",
   "metadata": {},
   "outputs": [],
   "source": [
    "import numpy as np\n",
    "\n",
    "def calcularMaxMin(arreglo):\n",
    "\n",
    "    minimo = maximo = np.nditer(arreglo)[0]\n",
    "\n",
    "    for i in np.nditer(arreglo):\n",
    "        if i < minimo:\n",
    "            minimo = i\n",
    "        elif i > maximo:\n",
    "            maximo = i\n",
    "\n",
    "    return minimo, maximo    "
   ]
  },
  {
   "cell_type": "code",
   "execution_count": 57,
   "id": "8deaebf1",
   "metadata": {},
   "outputs": [
    {
     "name": "stdout",
     "output_type": "stream",
     "text": [
      "El valor mínimo es 3 y el valor máximo es 50\n"
     ]
    }
   ],
   "source": [
    "array1 = np.array([[11,24,3,8],[50,36,17,48]])\n",
    "minimo, maximo = calcularMaxMin(array1)\n",
    "print(f\"El valor mínimo es {minimo} y el valor máximo es {maximo}\")"
   ]
  },
  {
   "cell_type": "markdown",
   "id": "7ad23f00",
   "metadata": {},
   "source": [
    "8.  Diseñar una función que calcule el área y el perímetro de una circunferencia. \n"
   ]
  },
  {
   "cell_type": "code",
   "execution_count": 60,
   "id": "65f84753",
   "metadata": {},
   "outputs": [],
   "source": [
    "def medidas_circulo(radio:float):\n",
    "    \n",
    "    perimetro = 2*np.pi*radio\n",
    "    area = np.pi * radio**2\n",
    "    \n",
    "    return perimetro, area"
   ]
  },
  {
   "cell_type": "code",
   "execution_count": 61,
   "id": "0fcdc243",
   "metadata": {},
   "outputs": [
    {
     "name": "stdout",
     "output_type": "stream",
     "text": [
      "El perímetro es 25.132741228718345 y el área es 50.26548245743669\n"
     ]
    }
   ],
   "source": [
    "perimetro, area = medidas_circulo(4)\n",
    "print(f\"El perímetro es {perimetro} y el área es {area}\")"
   ]
  },
  {
   "cell_type": "markdown",
   "id": "5ed8d632",
   "metadata": {},
   "source": [
    "9.  Crear una función  llamada “Login”, que recibe un nombre de usuario y una contraseña y devuelva Verdadero si el nombre de usuario es “usuario1” y la contraseña es “asdasd”. Además recibe el número de intentos que se ha intentado hacer login y si no se ha podido hacer login incremente este valor."
   ]
  },
  {
   "cell_type": "code",
   "execution_count": 20,
   "id": "fd984c85",
   "metadata": {},
   "outputs": [],
   "source": [
    "# Inicialización de la cantidad de intentos\n",
    "intentos = 0\n",
    "\n",
    "def login(usuario, contraseña, intentos = 0):\n",
    "    usuarios = {\"usuario1\":\"asdasd\"}\n",
    "    contra_correcta = usuarios[\"{}\".format(usuario)]\n",
    "    \n",
    "    if contra_correcta == contraseña:\n",
    "        return True, intentos\n",
    "    else:\n",
    "        intentos = intentos + 1\n",
    "        print(\" \")\n",
    "        print(\"Contraseña Incorrecta\")\n",
    "        return False, intentos"
   ]
  },
  {
   "cell_type": "code",
   "execution_count": 21,
   "id": "ae96b479",
   "metadata": {},
   "outputs": [
    {
     "name": "stdout",
     "output_type": "stream",
     "text": [
      "Ingrese el usuario: usuario1\n",
      "Ingrese la contraseña: asdasd\n",
      "True\n",
      "Número de intentos incorrectos: 0\n"
     ]
    }
   ],
   "source": [
    "usuario = str(input(\"Ingrese el usuario: \"))\n",
    "contraseña = str(input(\"Ingrese la contraseña: \"))\n",
    "\n",
    "resultado = login(usuario, contraseña, intentos)\n",
    "intentos = resultado[1]\n",
    "print(resultado[0])\n",
    "print(\"Número de intentos incorrectos: {}\".format(intentos))"
   ]
  },
  {
   "cell_type": "code",
   "execution_count": 22,
   "id": "0bf8afef",
   "metadata": {},
   "outputs": [
    {
     "name": "stdout",
     "output_type": "stream",
     "text": [
      "Ingrese el usuario: usuario1\n",
      "Ingrese la contraseña: mala\n",
      " \n",
      "Contraseña Incorrecta\n",
      "Número de intentos incorrectos: 1\n"
     ]
    }
   ],
   "source": [
    "usuario = str(input(\"Ingrese el usuario: \"))\n",
    "contraseña = str(input(\"Ingrese la contraseña: \"))\n",
    "\n",
    "resultado = login(usuario, contraseña, intentos)\n",
    "intentos = resultado[1]\n",
    "print(\"Número de intentos incorrectos: {}\".format(intentos))"
   ]
  },
  {
   "cell_type": "markdown",
   "id": "8100e64e",
   "metadata": {},
   "source": [
    "10. Crear una función recursiva que permita calcular el factorial de un número. Realiza un programa principal donde se lea un entero y se muestre el resultado del factorial. Revise la lección de funciones."
   ]
  },
  {
   "cell_type": "code",
   "execution_count": 29,
   "id": "8791bad3",
   "metadata": {},
   "outputs": [],
   "source": [
    "# Función recursiva para calcular el factorial de un entero \n",
    "def Factorial(numero, n, i=0, producto=1):\n",
    "    \n",
    "    # Caso base\n",
    "    if n <= i:\n",
    "        return producto\n",
    "    \n",
    "    producto *= numero\n",
    "    numero = numero - 1\n",
    "    \n",
    "    # Proceso recursivo\n",
    "    producto = Factorial(numero, n, i + 1, producto)\n",
    "\n",
    "    return producto"
   ]
  },
  {
   "cell_type": "code",
   "execution_count": 30,
   "id": "4ea2e572",
   "metadata": {},
   "outputs": [],
   "source": [
    "# Función de primera clase\n",
    "def principal(func, numero):\n",
    "    resultado = func(numero, numero)\n",
    "    print(\"El resultado de la operación factorial es: {}\".format(resultado))"
   ]
  },
  {
   "cell_type": "code",
   "execution_count": 32,
   "id": "6c5019bc",
   "metadata": {},
   "outputs": [
    {
     "name": "stdout",
     "output_type": "stream",
     "text": [
      "El resultado de la operación factorial es: 120\n"
     ]
    }
   ],
   "source": [
    "principal(Factorial, 5)"
   ]
  },
  {
   "cell_type": "markdown",
   "id": "568f803a",
   "metadata": {},
   "source": [
    "11. Escribir dos funciones que permitan calcular:\n",
    "- La cantidad de segundos en un tiempo dado en horas, minutos y segundos.\n",
    "- La cantidad de horas, minutos y segundos de un tiempo dado en segundos."
   ]
  },
  {
   "cell_type": "code",
   "execution_count": 1,
   "id": "c59c53a3",
   "metadata": {},
   "outputs": [],
   "source": [
    "def calcular_segundos(horas, minutos, segundos):\n",
    "    segundos = horas * 3600 + minutos * 60 + segundos\n",
    "    return segundos"
   ]
  },
  {
   "cell_type": "code",
   "execution_count": 2,
   "id": "732b227a",
   "metadata": {},
   "outputs": [
    {
     "name": "stdout",
     "output_type": "stream",
     "text": [
      "15950\n"
     ]
    }
   ],
   "source": [
    "seg_totales = calcular_segundos(4, 25, 50)\n",
    "print(seg_totales)"
   ]
  },
  {
   "cell_type": "code",
   "execution_count": 6,
   "id": "0b8a2a3b",
   "metadata": {},
   "outputs": [],
   "source": [
    "def calcular_tiempo(seg_totales):\n",
    "    \n",
    "    horas = seg_totales // 3600\n",
    "    minutos = (seg_totales % 3600) // 60\n",
    "    segundos = seg_totales % 60\n",
    "    return horas, minutos, segundos"
   ]
  },
  {
   "cell_type": "code",
   "execution_count": 9,
   "id": "bc189565",
   "metadata": {},
   "outputs": [
    {
     "name": "stdout",
     "output_type": "stream",
     "text": [
      "4:25:50\n"
     ]
    }
   ],
   "source": [
    "horas, minutos, segundos = calcular_tiempo(15950)\n",
    "print(\"{}:{}:{}\".format(horas, minutos, segundos))"
   ]
  },
  {
   "cell_type": "markdown",
   "id": "a6da9e71",
   "metadata": {},
   "source": [
    "12. Crea una función  que lea una tupla, invierta los valores de la tupla y regrese una nueva tupla invirtiendo los valores. Recuerde que las tuplas son inmutables."
   ]
  },
  {
   "cell_type": "code",
   "execution_count": 24,
   "id": "2177aaec",
   "metadata": {},
   "outputs": [],
   "source": [
    "def invertir(tupla):\n",
    "    \n",
    "    lista = list()\n",
    "    for i in tupla:\n",
    "        lista.append(i)\n",
    "        \n",
    "    lista.reverse()\n",
    "    nueva_tupla = tuple(lista)\n",
    "    return nueva_tupla"
   ]
  },
  {
   "cell_type": "code",
   "execution_count": 25,
   "id": "58ea00b9",
   "metadata": {},
   "outputs": [
    {
     "name": "stdout",
     "output_type": "stream",
     "text": [
      "(635, 'Hola', True, 14)\n"
     ]
    }
   ],
   "source": [
    "tupla1 = (14, True, \"Hola\", 635)\n",
    "tupla2 = invertir(tupla1)\n",
    "print(tupla2)"
   ]
  },
  {
   "cell_type": "markdown",
   "id": "73359b46",
   "metadata": {},
   "source": [
    " 13. Escriba una función que lea una lista y calcule la media geométrica de sus valores, usando funtools.reduce."
   ]
  },
  {
   "cell_type": "code",
   "execution_count": 28,
   "id": "ce7af91f",
   "metadata": {},
   "outputs": [],
   "source": [
    "# importar functools para disponer de reduce()\n",
    "import functools\n",
    "\n",
    "def media_geometrica(lis):\n",
    "    \n",
    "    producto = functools.reduce(lambda a, b: a*b, lis)\n",
    "    \n",
    "    media_geo = producto ** (1/len(lis))\n",
    "    return media_geo"
   ]
  },
  {
   "cell_type": "code",
   "execution_count": 35,
   "id": "4878194d",
   "metadata": {},
   "outputs": [
    {
     "name": "stdout",
     "output_type": "stream",
     "text": [
      "La media geométrica de los elementos de la lista es : 6.0\n"
     ]
    }
   ],
   "source": [
    "import numpy as np\n",
    "\n",
    "# lista a procesar\n",
    "lis = [3, 9, 8]\n",
    "media = np.round(media_geometrica(lis),0)\n",
    "print(\"La media geométrica de los elementos de la lista es : {}\".format(media))"
   ]
  }
 ],
 "metadata": {
  "kernelspec": {
   "display_name": "Python 3 (ipykernel)",
   "language": "python",
   "name": "python3"
  },
  "language_info": {
   "codemirror_mode": {
    "name": "ipython",
    "version": 3
   },
   "file_extension": ".py",
   "mimetype": "text/x-python",
   "name": "python",
   "nbconvert_exporter": "python",
   "pygments_lexer": "ipython3",
   "version": "3.9.16"
  }
 },
 "nbformat": 4,
 "nbformat_minor": 5
}
