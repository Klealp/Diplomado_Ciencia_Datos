{
 "cells": [
  {
   "cell_type": "markdown",
   "id": "b73cac6d",
   "metadata": {},
   "source": [
    "# <font color= blue> <b> TAREA PROGRAMACIÓN ORIENTADA A OBJETOS </b> </i> </font> "
   ]
  },
  {
   "cell_type": "markdown",
   "id": "182a0f76",
   "metadata": {},
   "source": [
    "1. Consiga el conjunto de datos iris.csv. En el repositorio de Aprendizaje Profundo encuentra alguna versión."
   ]
  },
  {
   "cell_type": "code",
   "execution_count": 212,
   "id": "2eca2296",
   "metadata": {},
   "outputs": [
    {
     "name": "stdout",
     "output_type": "stream",
     "text": [
      "   sepal length (cm)  sepal width (cm)  petal length (cm)  petal width (cm)  \\\n",
      "0                5.1               3.5                1.4               0.2   \n",
      "1                4.9               3.0                1.4               0.2   \n",
      "2                4.7               3.2                1.3               0.2   \n",
      "3                4.6               3.1                1.5               0.2   \n",
      "4                5.0               3.6                1.4               0.2   \n",
      "\n",
      "  species  \n",
      "0  setosa  \n",
      "1  setosa  \n",
      "2  setosa  \n",
      "3  setosa  \n",
      "4  setosa  \n"
     ]
    }
   ],
   "source": [
    "from sklearn.datasets import load_iris\n",
    "import pandas as pd\n",
    "\n",
    "# Cargar los datos de Iris\n",
    "iris = load_iris()\n",
    "\n",
    "# Crear un DataFrame de pandas con los datos\n",
    "df = pd.DataFrame(data=iris['data'], columns=iris['feature_names'])\n",
    "\n",
    "# Agregar la columna de especies al DataFrame\n",
    "df['species'] = iris['target']\n",
    "\n",
    "# Convertir los valores numéricos de la columna 'species' en nombres de especies\n",
    "df['species'] = df['species'].apply(lambda x: iris['target_names'][x])\n",
    "\n",
    "# Mostrar las primeras filas del DataFrame\n",
    "print(df.head())"
   ]
  },
  {
   "cell_type": "code",
   "execution_count": 213,
   "id": "afc922f9",
   "metadata": {},
   "outputs": [
    {
     "data": {
      "text/plain": [
       "pandas.core.frame.DataFrame"
      ]
     },
     "execution_count": 213,
     "metadata": {},
     "output_type": "execute_result"
    }
   ],
   "source": [
    "type(df)"
   ]
  },
  {
   "cell_type": "markdown",
   "id": "a3cb9edc",
   "metadata": {},
   "source": [
    "2. Escriba una clase iterable que tenga la siguiente funcionalidad\n",
    "\n",
    "   2.1 Al instanciar un objeto, lee el archivo de datos y lo coloca en un dataframe interno en la clase.\n",
    "   \n",
    "   2.2 Cada vez que se le pidan datos, debe regresar los dos siguientes datos.\n",
    "   \n",
    "   2.3 Entregue un error si los datos se han agotado"
   ]
  },
  {
   "cell_type": "code",
   "execution_count": 214,
   "id": "1d79c5d1",
   "metadata": {},
   "outputs": [],
   "source": [
    "class LeerBase:\n",
    "    \"\"\"\n",
    "    Clase para leer un archivo de datos y lo guarde en un dataframe de pandas.\n",
    "    También mostrará dos filas de datos cada vez que se llame al objeto.\n",
    "    \"\"\"\n",
    "    def __init__(self, Datafr):\n",
    "        self.Datafr = pd.DataFrame(Datafr)\n",
    "        self.filas = self.Datafr.shape[0]\n",
    "        self.llamadas = 0\n",
    "        \n",
    "    def __call__(self):\n",
    "        if (self.llamadas+1) > self.filas:\n",
    "            raise ValueError(\"Ya no hay más datos\")\n",
    "        else:\n",
    "            mostrar = self.Datafr.iloc[self.llamadas:(self.llamadas+2),]\n",
    "            self.llamadas += 1\n",
    "        print(mostrar)\n",
    "        \n",
    "        "
   ]
  },
  {
   "cell_type": "code",
   "execution_count": 215,
   "id": "0e50a365",
   "metadata": {},
   "outputs": [
    {
     "data": {
      "text/plain": [
       "__main__.LeerBase"
      ]
     },
     "execution_count": 215,
     "metadata": {},
     "output_type": "execute_result"
    }
   ],
   "source": [
    "Iris = LeerBase(df)\n",
    "type(Iris)"
   ]
  },
  {
   "cell_type": "code",
   "execution_count": 216,
   "id": "2180bafe",
   "metadata": {},
   "outputs": [
    {
     "name": "stdout",
     "output_type": "stream",
     "text": [
      "   sepal length (cm)  sepal width (cm)  petal length (cm)  petal width (cm)  \\\n",
      "0                5.1               3.5                1.4               0.2   \n",
      "1                4.9               3.0                1.4               0.2   \n",
      "\n",
      "  species  \n",
      "0  setosa  \n",
      "1  setosa  \n",
      "None\n"
     ]
    }
   ],
   "source": [
    "print(Iris())"
   ]
  },
  {
   "cell_type": "code",
   "execution_count": 217,
   "id": "539d7d1e",
   "metadata": {},
   "outputs": [
    {
     "name": "stdout",
     "output_type": "stream",
     "text": [
      "   sepal length (cm)  sepal width (cm)  petal length (cm)  petal width (cm)  \\\n",
      "1                4.9               3.0                1.4               0.2   \n",
      "2                4.7               3.2                1.3               0.2   \n",
      "\n",
      "  species  \n",
      "1  setosa  \n",
      "2  setosa  \n",
      "None\n"
     ]
    }
   ],
   "source": [
    "print(Iris())"
   ]
  },
  {
   "cell_type": "code",
   "execution_count": 218,
   "id": "4a38092b",
   "metadata": {},
   "outputs": [
    {
     "name": "stdout",
     "output_type": "stream",
     "text": [
      "   sepal length (cm)  sepal width (cm)  petal length (cm)  petal width (cm)  \\\n",
      "2                4.7               3.2                1.3               0.2   \n",
      "3                4.6               3.1                1.5               0.2   \n",
      "\n",
      "  species  \n",
      "2  setosa  \n",
      "3  setosa  \n",
      "None\n"
     ]
    }
   ],
   "source": [
    "print(Iris())"
   ]
  }
 ],
 "metadata": {
  "kernelspec": {
   "display_name": "Python 3 (ipykernel)",
   "language": "python",
   "name": "python3"
  },
  "language_info": {
   "codemirror_mode": {
    "name": "ipython",
    "version": 3
   },
   "file_extension": ".py",
   "mimetype": "text/x-python",
   "name": "python",
   "nbconvert_exporter": "python",
   "pygments_lexer": "ipython3",
   "version": "3.9.16"
  }
 },
 "nbformat": 4,
 "nbformat_minor": 5
}
