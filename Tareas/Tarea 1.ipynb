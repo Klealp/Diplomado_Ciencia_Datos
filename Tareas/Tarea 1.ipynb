{
 "cells": [
  {
   "cell_type": "markdown",
   "id": "279c232d",
   "metadata": {},
   "source": [
    "# <font color= blue> <b> PROBABILIDAD CONDICIONAL </b> </i> </font> "
   ]
  },
  {
   "cell_type": "markdown",
   "id": "4d1c2eaf",
   "metadata": {},
   "source": [
    "<center> <img src=\"https://cdn.pixabay.com/photo/2017/10/25/22/29/bayesian-2889576_960_720.png\" width='400' height='100'> </center>"
   ]
  },
  {
   "cell_type": "markdown",
   "id": "543ffda1",
   "metadata": {},
   "source": [
    "## <font color= blue> <b> AUTOR: </b> </i> </font> "
   ]
  },
  {
   "cell_type": "markdown",
   "id": "e06840fb",
   "metadata": {},
   "source": [
    "[**Kevin Andrés Leal Pérez**](linkedin.com/in/kevin-andres-leal-perez-2a958a254): "
   ]
  },
  {
   "cell_type": "markdown",
   "id": "d9a17684",
   "metadata": {},
   "source": [
    "<center> <img src=\"https://github.com/Klealp/Diplomado_Ciencia_Datos/blob/main/Tareas/Foto.jpg?raw=true\" width='250' height='45'> </center>"
   ]
  },
  {
   "cell_type": "markdown",
   "id": "d19494cc",
   "metadata": {},
   "source": [
    "**Perfil**:\n",
    "\n",
    "Actualmente, me encuentro estudiando el noveno semestre de estadística de la Universidad Nacional de Colombia. Tengo 20 años y nací en Bogotá, Colombia. Me considero como una persona con grandes cualidades académicas, capacidad de liderazgo y de gestión, y un gran interés por aprender. Buenas relaciones personales y capacidades de comunicación que me permiten un alto desempeño en la resolución de conflictos, a su vez que, en actividades grupales. Entre mis actitudes destacan la responsabilidad, el respeto, la tolerancia, la paciencia y la disposición para colaborar activamente. Tengo conocimiento y experiencia con lenguajes de programación para el análisis de datos como Python y R."
   ]
  },
  {
   "cell_type": "markdown",
   "id": "cd09b460",
   "metadata": {},
   "source": [
    "## <font color= blue> <b> DEFINICIÓN: </b> </i> </font> "
   ]
  },
  {
   "cell_type": "markdown",
   "id": "6ca5555f",
   "metadata": {},
   "source": [
    "La probabilidad condicional, también llamada probabilidad condicionada, es una medida estadística que indica la probabilidad de que ocurra un evento A si otro evento B ha sucedido. Es decir, la probabilidad condicional $P(A|B)$ se refiere a cuánto de probable es que suceda el evento $A$ una vez ya se ha producido el evento $B$.\n",
    "\n",
    "La probabilidad condicional del evento $A$ dado el evento $B$ es igual a la probabilidad de la intersección entre el evento $A$ y el evento $B$ partido por la probabilidad del evento B, es decir\n",
    "\n",
    "$$\n",
    "P(A|B) = \\frac{P(A \\cap B)}{P(B)}\n",
    "$$"
   ]
  },
  {
   "cell_type": "markdown",
   "id": "1966ece3",
   "metadata": {},
   "source": [
    "## <font color= blue> <b> EJEMPLO: </b> </i> </font> "
   ]
  },
  {
   "cell_type": "markdown",
   "id": "01d158bd",
   "metadata": {},
   "source": [
    "Después de haber hecho un examen en una clase de 30 alumnos, se han recogido datos para saber cuántos alumnos han estudiado y cuántos han aprobado, los resultados se muestran en la siguiente tabla de contingencia. A partir de los datos recopilados, se desea calcular la probabilidad condicional de aprobar un examen si la persona ha estudiado antes.\n",
    "\n",
    "|                  | Aprobado | Reprobado | Total |\n",
    "|------------------|----------|-----------|-------|\n",
    "| Han estudiado    | 19       | 4         | 23    |\n",
    "| No han estudiado | 1        | 6         | 7     |\n",
    "| Total            | 20       | 10        | 30    |\n"
   ]
  },
  {
   "cell_type": "markdown",
   "id": "0067a14b",
   "metadata": {},
   "source": [
    "Por lo tanto, si seguimos la fórmula presentada en la definición debemos averiguar la siguiente probabilidad\n",
    "\n",
    "$$\n",
    "P(\\text{Aprobado}|\\text{Ha estudiado}) = \\frac{P(\\text{Aprobado} \\cap \\text{Ha estudiado})}{P(\\text{Ha estudiado)}}\n",
    "$$"
   ]
  },
  {
   "cell_type": "markdown",
   "id": "bb279160",
   "metadata": {},
   "source": [
    "Luego, tenemos que calcular la probabilidad de que el estudiante haya estudiado, que de acuerdo con la tabla esta sería\n",
    "$$\n",
    "P(\\text{Ha estudiado)} = \\frac{23}{30} = 0.77\n",
    "$$\n",
    "\n",
    "Ahora, se debe hallar la probabilidad de que el estudiante haya estudiado y haya aprobado el examen al mismo tiempo, valor que nuevamente podemos obtener a partir de la tabla de contingencia\n",
    "\n",
    "$$\n",
    "P(\\text{Aprobado} \\cap \\text{Ha estudiado}) = \\frac{19}{30} = 0.63\n",
    "$$\n",
    "\n",
    "Finalmente, la probabilidad de aprobar un examen condicionado en que la persona haya estudiado es\n",
    "\n",
    "$$\n",
    "P(\\text{Aprobado}|\\text{Ha estudiado}) = \\frac{0.63}{0.77} = 0.82\n",
    "$$\n"
   ]
  },
  {
   "cell_type": "markdown",
   "id": "55fb4073",
   "metadata": {},
   "source": [
    "## <font color= blue> <b> REFERENCIA: </b> </i> </font> \n",
    "\n",
    "- [Probabilidad y Estadística.net](https://www.probabilidadyestadistica.net/probabilidad-condicional-condicionada/)"
   ]
  }
 ],
 "metadata": {
  "kernelspec": {
   "display_name": "Python 3 (ipykernel)",
   "language": "python",
   "name": "python3"
  },
  "language_info": {
   "codemirror_mode": {
    "name": "ipython",
    "version": 3
   },
   "file_extension": ".py",
   "mimetype": "text/x-python",
   "name": "python",
   "nbconvert_exporter": "python",
   "pygments_lexer": "ipython3",
   "version": "3.9.16"
  }
 },
 "nbformat": 4,
 "nbformat_minor": 5
}
