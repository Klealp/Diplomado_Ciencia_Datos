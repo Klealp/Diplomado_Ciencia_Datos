{
 "cells": [
  {
   "cell_type": "markdown",
   "id": "b73cac6d",
   "metadata": {},
   "source": [
    "# <font color= blue> <b> TAREA PROGRAMACIÓN ORIENTADA A OBJETOS </b> </i> </font> "
   ]
  },
  {
   "cell_type": "markdown",
   "id": "182a0f76",
   "metadata": {},
   "source": [
    "1. Consiga el conjunto de datos iris.csv."
   ]
  },
  {
   "cell_type": "code",
   "execution_count": 1,
   "id": "2eca2296",
   "metadata": {},
   "outputs": [
    {
     "name": "stdout",
     "output_type": "stream",
     "text": [
      "   sepal length (cm)  sepal width (cm)  petal length (cm)  petal width (cm)\n",
      "0                5.1               3.5                1.4               0.2\n",
      "1                4.9               3.0                1.4               0.2\n",
      "2                4.7               3.2                1.3               0.2\n",
      "3                4.6               3.1                1.5               0.2\n",
      "4                5.0               3.6                1.4               0.2\n"
     ]
    }
   ],
   "source": [
    "from sklearn.datasets import load_iris\n",
    "import pandas as pd\n",
    "\n",
    "# Cargar los datos de Iris\n",
    "iris = load_iris()\n",
    "\n",
    "# Crear un DataFrame de pandas con los datos\n",
    "df = pd.DataFrame(data=iris['data'], columns=iris['feature_names'])\n",
    "\n",
    "# Mostrar las primeras filas del DataFrame\n",
    "print(df.head())"
   ]
  },
  {
   "cell_type": "code",
   "execution_count": 2,
   "id": "afc922f9",
   "metadata": {},
   "outputs": [
    {
     "data": {
      "text/plain": [
       "pandas.core.frame.DataFrame"
      ]
     },
     "execution_count": 2,
     "metadata": {},
     "output_type": "execute_result"
    }
   ],
   "source": [
    "type(df)"
   ]
  },
  {
   "cell_type": "code",
   "execution_count": 3,
   "id": "5693d6f6",
   "metadata": {},
   "outputs": [],
   "source": [
    "estadisticas = pd.DataFrame(columns=['Variable', 'Media', 'Q25', 'Mediana','Q75', 'Desviacion'])"
   ]
  },
  {
   "cell_type": "code",
   "execution_count": 4,
   "id": "7d7e3cd2",
   "metadata": {},
   "outputs": [
    {
     "name": "stderr",
     "output_type": "stream",
     "text": [
      "C:\\Users\\kevin\\AppData\\Local\\Temp\\ipykernel_10508\\1011771301.py:2: FutureWarning: The frame.append method is deprecated and will be removed from pandas in a future version. Use pandas.concat instead.\n",
      "  estadisticas.append({'Variable': variable,\n"
     ]
    },
    {
     "data": {
      "text/html": [
       "<div>\n",
       "<style scoped>\n",
       "    .dataframe tbody tr th:only-of-type {\n",
       "        vertical-align: middle;\n",
       "    }\n",
       "\n",
       "    .dataframe tbody tr th {\n",
       "        vertical-align: top;\n",
       "    }\n",
       "\n",
       "    .dataframe thead th {\n",
       "        text-align: right;\n",
       "    }\n",
       "</style>\n",
       "<table border=\"1\" class=\"dataframe\">\n",
       "  <thead>\n",
       "    <tr style=\"text-align: right;\">\n",
       "      <th></th>\n",
       "      <th>Variable</th>\n",
       "      <th>Media</th>\n",
       "      <th>Q25</th>\n",
       "      <th>Mediana</th>\n",
       "      <th>Q75</th>\n",
       "      <th>Desviacion</th>\n",
       "    </tr>\n",
       "  </thead>\n",
       "  <tbody>\n",
       "    <tr>\n",
       "      <th>0</th>\n",
       "      <td>sepal length (cm)</td>\n",
       "      <td>5.843333</td>\n",
       "      <td>5.1</td>\n",
       "      <td>5.8</td>\n",
       "      <td>6.4</td>\n",
       "      <td>0.828066</td>\n",
       "    </tr>\n",
       "  </tbody>\n",
       "</table>\n",
       "</div>"
      ],
      "text/plain": [
       "            Variable     Media  Q25  Mediana  Q75  Desviacion\n",
       "0  sepal length (cm)  5.843333  5.1      5.8  6.4    0.828066"
      ]
     },
     "execution_count": 4,
     "metadata": {},
     "output_type": "execute_result"
    }
   ],
   "source": [
    "variable = \"sepal length (cm)\"\n",
    "estadisticas.append({'Variable': variable, \n",
    "                          'Media':df['{}'.format(variable)].mean(),\n",
    "                          'Q25':df['{}'.format(variable)].quantile(0.25),\n",
    "                          'Mediana':df['{}'.format(variable)].quantile(0.5),\n",
    "                          'Q75':df['{}'.format(variable)].quantile(0.75), \n",
    "                          'Desviacion':df['{}'.format(variable)].std()}, ignore_index=True)"
   ]
  },
  {
   "cell_type": "markdown",
   "id": "a3cb9edc",
   "metadata": {},
   "source": [
    "3. Escriba una clase con las siguientes funcionalidades:\n",
    "   3.1. Al instanciar un objeto, lee un conjunto de datos numéricos. Por ejemplo puede usar el mismo conjunto de datos iris.csv. Instancie los datos en un dataframe de Pandas.\n",
    "   \n",
    "   3.2 Implemente un método que calcule las estadísticas descriptivas básicas de cada una de las variables.\n",
    "   \n",
    "   3.3 Implemente un método que entregue los nombre de las variables disponibles.\n",
    "   \n",
    "   3.3 Implemente un método que reciba el nombre de una variable disponible dentro del objeto ( en el  dataframe) y regrese: sus estadísticas básicas:  media, mediana, desviación, percentiles q25, q50, q75 y dibuje un histograma de la distribución de la variable.\n"
   ]
  },
  {
   "cell_type": "code",
   "execution_count": 5,
   "id": "cdb656ca",
   "metadata": {},
   "outputs": [],
   "source": [
    "import matplotlib.pyplot as plt"
   ]
  },
  {
   "cell_type": "code",
   "execution_count": 28,
   "id": "1d79c5d1",
   "metadata": {},
   "outputs": [],
   "source": [
    "class LeerBase:\n",
    "    \"\"\"\n",
    "    Clase para leer un archivo de datos y lo guarde en un dataframe de pandas.\n",
    "    Mostrará los nombres de las variables disponibles y calculará sus estadísticas \n",
    "    descriptivas junto con histogramas.\n",
    "    También mostrará dos filas de datos cada vez que se llame al objeto.\n",
    "    \"\"\"\n",
    "    def __init__(self, Datafr):\n",
    "        self.Datafr = pd.DataFrame(Datafr)\n",
    "        self.nombres = self.Datafr.columns\n",
    "        \n",
    "        self.filas = self.Datafr.shape[0]\n",
    "        self.llamadas = 0\n",
    "        \n",
    "    def __call__(self):\n",
    "        if (self.llamadas+1) > self.filas:\n",
    "            raise ValueError(\"Ya no hay más datos\")\n",
    "        else:\n",
    "            mostrar = self.Datafr.iloc[self.llamadas:(self.llamadas+2),]\n",
    "            self.llamadas += 1\n",
    "        print(mostrar)\n",
    "        \n",
    "    def columnas(self):\n",
    "        print(\"Las variables disponibles son:\")\n",
    "        for i in range(len(self.nombres)):\n",
    "            print(self.nombres[i])\n",
    "        \n",
    "    def descriptiva(self):\n",
    "        self.Estadisticas = pd.DataFrame(columns=['Variable', 'Media', 'Q25', 'Mediana','Q75', 'Desviacion'])\n",
    "        for i in range(len(self.nombres)):\n",
    "            variable = self.nombres[i]\n",
    "            nueva_fila = {'Variable': variable, \n",
    "                             'Media':self.Datafr['{}'.format(variable)].mean(),\n",
    "                             'Q25':self.Datafr['{}'.format(variable)].quantile(0.25),\n",
    "                             'Mediana':self.Datafr['{}'.format(variable)].quantile(0.5),\n",
    "                             'Q75':self.Datafr['{}'.format(variable)].quantile(0.75), \n",
    "                             'Desviacion':self.Datafr['{}'.format(variable)].std()}\n",
    "            self.Estadisticas = self.Estadisticas.append(nueva_fila, ignore_index=True)\n",
    "        return(self.Estadisticas)\n",
    "        \n",
    "    def histograma(self, variable_hist):\n",
    "        resultado = self.descriptiva()\n",
    "        seleccion = resultado[resultado[\"Variable\"].isin([variable_hist])]\n",
    "        print(\"Las estadísticas descriptivas son:\")\n",
    "        print(seleccion)\n",
    "        print()\n",
    "        print(\"El histograma de la variable '{}' es:\".format(variable_hist))\n",
    "        self.Datafr['{}'.format(variable_hist)].hist()\n",
    "        plt.show()\n",
    "        "
   ]
  },
  {
   "cell_type": "code",
   "execution_count": 29,
   "id": "0e50a365",
   "metadata": {},
   "outputs": [
    {
     "data": {
      "text/plain": [
       "__main__.LeerBase"
      ]
     },
     "execution_count": 29,
     "metadata": {},
     "output_type": "execute_result"
    }
   ],
   "source": [
    "Iris = LeerBase(df)\n",
    "type(Iris)"
   ]
  },
  {
   "cell_type": "markdown",
   "id": "f68dbf23",
   "metadata": {},
   "source": [
    "- Método que calcula las estadísticas descriptivas de cada una de las variables."
   ]
  },
  {
   "cell_type": "code",
   "execution_count": 22,
   "id": "539d7d1e",
   "metadata": {},
   "outputs": [
    {
     "name": "stderr",
     "output_type": "stream",
     "text": [
      "C:\\Users\\kevin\\AppData\\Local\\Temp\\ipykernel_10508\\1809761622.py:38: FutureWarning: The frame.append method is deprecated and will be removed from pandas in a future version. Use pandas.concat instead.\n",
      "  self.Estadisticas = self.Estadisticas.append(nueva_fila, ignore_index=True)\n",
      "C:\\Users\\kevin\\AppData\\Local\\Temp\\ipykernel_10508\\1809761622.py:38: FutureWarning: The frame.append method is deprecated and will be removed from pandas in a future version. Use pandas.concat instead.\n",
      "  self.Estadisticas = self.Estadisticas.append(nueva_fila, ignore_index=True)\n",
      "C:\\Users\\kevin\\AppData\\Local\\Temp\\ipykernel_10508\\1809761622.py:38: FutureWarning: The frame.append method is deprecated and will be removed from pandas in a future version. Use pandas.concat instead.\n",
      "  self.Estadisticas = self.Estadisticas.append(nueva_fila, ignore_index=True)\n",
      "C:\\Users\\kevin\\AppData\\Local\\Temp\\ipykernel_10508\\1809761622.py:38: FutureWarning: The frame.append method is deprecated and will be removed from pandas in a future version. Use pandas.concat instead.\n",
      "  self.Estadisticas = self.Estadisticas.append(nueva_fila, ignore_index=True)\n"
     ]
    },
    {
     "data": {
      "text/html": [
       "<div>\n",
       "<style scoped>\n",
       "    .dataframe tbody tr th:only-of-type {\n",
       "        vertical-align: middle;\n",
       "    }\n",
       "\n",
       "    .dataframe tbody tr th {\n",
       "        vertical-align: top;\n",
       "    }\n",
       "\n",
       "    .dataframe thead th {\n",
       "        text-align: right;\n",
       "    }\n",
       "</style>\n",
       "<table border=\"1\" class=\"dataframe\">\n",
       "  <thead>\n",
       "    <tr style=\"text-align: right;\">\n",
       "      <th></th>\n",
       "      <th>Variable</th>\n",
       "      <th>Media</th>\n",
       "      <th>Q25</th>\n",
       "      <th>Mediana</th>\n",
       "      <th>Q75</th>\n",
       "      <th>Desviacion</th>\n",
       "    </tr>\n",
       "  </thead>\n",
       "  <tbody>\n",
       "    <tr>\n",
       "      <th>0</th>\n",
       "      <td>sepal length (cm)</td>\n",
       "      <td>5.843333</td>\n",
       "      <td>5.1</td>\n",
       "      <td>5.80</td>\n",
       "      <td>6.4</td>\n",
       "      <td>0.828066</td>\n",
       "    </tr>\n",
       "    <tr>\n",
       "      <th>1</th>\n",
       "      <td>sepal width (cm)</td>\n",
       "      <td>3.057333</td>\n",
       "      <td>2.8</td>\n",
       "      <td>3.00</td>\n",
       "      <td>3.3</td>\n",
       "      <td>0.435866</td>\n",
       "    </tr>\n",
       "    <tr>\n",
       "      <th>2</th>\n",
       "      <td>petal length (cm)</td>\n",
       "      <td>3.758000</td>\n",
       "      <td>1.6</td>\n",
       "      <td>4.35</td>\n",
       "      <td>5.1</td>\n",
       "      <td>1.765298</td>\n",
       "    </tr>\n",
       "    <tr>\n",
       "      <th>3</th>\n",
       "      <td>petal width (cm)</td>\n",
       "      <td>1.199333</td>\n",
       "      <td>0.3</td>\n",
       "      <td>1.30</td>\n",
       "      <td>1.8</td>\n",
       "      <td>0.762238</td>\n",
       "    </tr>\n",
       "  </tbody>\n",
       "</table>\n",
       "</div>"
      ],
      "text/plain": [
       "            Variable     Media  Q25  Mediana  Q75  Desviacion\n",
       "0  sepal length (cm)  5.843333  5.1     5.80  6.4    0.828066\n",
       "1   sepal width (cm)  3.057333  2.8     3.00  3.3    0.435866\n",
       "2  petal length (cm)  3.758000  1.6     4.35  5.1    1.765298\n",
       "3   petal width (cm)  1.199333  0.3     1.30  1.8    0.762238"
      ]
     },
     "execution_count": 22,
     "metadata": {},
     "output_type": "execute_result"
    }
   ],
   "source": [
    "Iris.descriptiva()"
   ]
  },
  {
   "cell_type": "markdown",
   "id": "d85e7ee3",
   "metadata": {},
   "source": [
    "- Método que muestra los nombres de las variables disponibles"
   ]
  },
  {
   "cell_type": "code",
   "execution_count": 23,
   "id": "ea6b371b",
   "metadata": {},
   "outputs": [
    {
     "name": "stdout",
     "output_type": "stream",
     "text": [
      "Las variables disponibles son:\n",
      "sepal length (cm)\n",
      "sepal width (cm)\n",
      "petal length (cm)\n",
      "petal width (cm)\n"
     ]
    }
   ],
   "source": [
    "Iris.columnas()"
   ]
  },
  {
   "cell_type": "markdown",
   "id": "0784a2b8",
   "metadata": {},
   "source": [
    "- Método que recibe el nombre de una de las variables y devuelve sus estadísticas junto a al histograma respectivo de la distribución de la variable."
   ]
  },
  {
   "cell_type": "code",
   "execution_count": 31,
   "id": "15501c4d",
   "metadata": {},
   "outputs": [
    {
     "name": "stdout",
     "output_type": "stream",
     "text": [
      "Las estadísticas descriptivas son:\n",
      "            Variable  Media  Q25  Mediana  Q75  Desviacion\n",
      "2  petal length (cm)  3.758  1.6     4.35  5.1    1.765298\n",
      "\n",
      "El histograma de la variable 'petal length (cm)' es:\n"
     ]
    },
    {
     "name": "stderr",
     "output_type": "stream",
     "text": [
      "C:\\Users\\kevin\\AppData\\Local\\Temp\\ipykernel_10508\\776819527.py:38: FutureWarning: The frame.append method is deprecated and will be removed from pandas in a future version. Use pandas.concat instead.\n",
      "  self.Estadisticas = self.Estadisticas.append(nueva_fila, ignore_index=True)\n",
      "C:\\Users\\kevin\\AppData\\Local\\Temp\\ipykernel_10508\\776819527.py:38: FutureWarning: The frame.append method is deprecated and will be removed from pandas in a future version. Use pandas.concat instead.\n",
      "  self.Estadisticas = self.Estadisticas.append(nueva_fila, ignore_index=True)\n",
      "C:\\Users\\kevin\\AppData\\Local\\Temp\\ipykernel_10508\\776819527.py:38: FutureWarning: The frame.append method is deprecated and will be removed from pandas in a future version. Use pandas.concat instead.\n",
      "  self.Estadisticas = self.Estadisticas.append(nueva_fila, ignore_index=True)\n",
      "C:\\Users\\kevin\\AppData\\Local\\Temp\\ipykernel_10508\\776819527.py:38: FutureWarning: The frame.append method is deprecated and will be removed from pandas in a future version. Use pandas.concat instead.\n",
      "  self.Estadisticas = self.Estadisticas.append(nueva_fila, ignore_index=True)\n"
     ]
    },
    {
     "data": {
      "image/png": "[encoded data removed]",
      "text/plain": [
       "<Figure size 640x480 with 1 Axes>"
      ]
     },
     "metadata": {},
     "output_type": "display_data"
    }
   ],
   "source": [
    "Iris.histograma(\"petal length (cm)\")"
   ]
  }
 ],
 "metadata": {
  "kernelspec": {
   "display_name": "Python 3 (ipykernel)",
   "language": "python",
   "name": "python3"
  },
  "language_info": {
   "codemirror_mode": {
    "name": "ipython",
    "version": 3
   },
   "file_extension": ".py",
   "mimetype": "text/x-python",
   "name": "python",
   "nbconvert_exporter": "python",
   "pygments_lexer": "ipython3",
   "version": "3.9.16"
  }
 },
 "nbformat": 4,
 "nbformat_minor": 5
}
